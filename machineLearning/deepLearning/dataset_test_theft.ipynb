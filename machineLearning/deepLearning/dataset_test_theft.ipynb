{
 "cells": [
  {
   "cell_type": "code",
   "execution_count": 7,
   "id": "mature-premiere",
   "metadata": {},
   "outputs": [],
   "source": [
    "import numpy as np\n",
    "import cv2 as cv"
   ]
  },
  {
   "cell_type": "code",
   "execution_count": 8,
   "id": "fitted-flood",
   "metadata": {},
   "outputs": [],
   "source": [
    "cap = cv.VideoCapture('/home/jhonat/Documents/tcc/dataset/test/furtos_test.mp4')"
   ]
  },
  {
   "cell_type": "code",
   "execution_count": 9,
   "id": "sweet-lewis",
   "metadata": {},
   "outputs": [
    {
     "name": "stdout",
     "output_type": "stream",
     "text": [
      "Can't receive frame (stream end?). Exiting ...\n",
      "finished\n"
     ]
    }
   ],
   "source": [
    "count = 0\n",
    "while cap.isOpened():\n",
    "    cap.set(cv.CAP_PROP_POS_MSEC,(count*200))    # added this line get frame 0.2 segundos\n",
    "    ret, frame = cap.read()\n",
    "    # if frame is read correctly ret is True\n",
    "    if not ret:\n",
    "        print(\"Can't receive frame (stream end?). Exiting ...\")\n",
    "        break\n",
    "    \n",
    "#     cv.imshow(\"Display window\", frame)\n",
    "    \n",
    "#     height, width = frame.shape[:2]\n",
    "#     print('height(antes), width(antes): ',height, width)\n",
    "    frame_reduze = cv.resize(frame,(200, 200), interpolation = cv.INTER_LINEAR)\n",
    "#     height, width = frame_reduze.shape[:2]\n",
    "#     print('height(depois), width(depois): ',height, width)\n",
    "#     cv.imshow(\"Display reduce\", frame_reduze)\n",
    "    nomeDoFrame = '/home/jhonat/Documents/tcc/dataset/test/theft-%d.png' % count\n",
    "    cv.imwrite(nomeDoFrame, frame_reduze)\n",
    "    count += 1\n",
    "\n",
    "cap.release()\n",
    "print('finished')\n"
   ]
  },
  {
   "cell_type": "code",
   "execution_count": null,
   "id": "egyptian-toilet",
   "metadata": {},
   "outputs": [],
   "source": []
  }
 ],
 "metadata": {
  "kernelspec": {
   "display_name": "Python 3.7.10 64-bit ('ia': conda)",
   "language": "python",
   "name": "python371064bitiaconda87e87804aa764a52908ab4f521814c1a"
  },
  "language_info": {
   "codemirror_mode": {
    "name": "ipython",
    "version": 3
   },
   "file_extension": ".py",
   "mimetype": "text/x-python",
   "name": "python",
   "nbconvert_exporter": "python",
   "pygments_lexer": "ipython3",
   "version": "3.7.10"
  }
 },
 "nbformat": 4,
 "nbformat_minor": 5
}
